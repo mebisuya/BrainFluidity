{
 "cells": [
  {
   "cell_type": "markdown",
   "id": "28110d74-a119-49b9-9259-d97e2514f507",
   "metadata": {},
   "source": [
    "This notebook reproduces the statistical tests described in the manuscript:\n",
    "\n",
    "- Normality: Shapiro–Wilk test (or Kolmogorov–Smirnov if n > 5000)  \n",
    "- Variance equality: Levene’s test (if both groups normal)  \n",
    "- Group comparison:\n",
    "  - Student’s t-test (equal variances)  \n",
    "  - Welch’s t-test (unequal variances)  \n",
    "  - Mann–Whitney U test (if non-normal)  \n",
    "\n",
    "Outputs:  \n",
    "- Sample sizes per group  \n",
    "- Raw p-values for all pairwise comparisons\n",
    "\n",
    "Note that:\n",
    "    P-values for multiple comparisons are manually corrected with Bonferroni adjustment."
   ]
  },
  {
   "cell_type": "code",
   "execution_count": null,
   "id": "ae2d6180-bb12-4430-8128-872d37b07408",
   "metadata": {},
   "outputs": [],
   "source": []
  },
  {
   "cell_type": "code",
   "execution_count": null,
   "id": "59c14d5a-8270-42a7-b9b2-68c05aae9bfb",
   "metadata": {},
   "outputs": [],
   "source": [
    "# imports\n",
    "import pandas as pd\n",
    "import itertools\n",
    "import scipy.stats as stats\n",
    "from statsmodels.stats.multitest import multipletests"
   ]
  },
  {
   "cell_type": "code",
   "execution_count": null,
   "id": "cfc8633b-4b94-477b-a1b3-5bd42c5edcf9",
   "metadata": {},
   "outputs": [],
   "source": []
  },
  {
   "cell_type": "markdown",
   "id": "4cf61586-2f4f-4e5e-8dae-7e88ae857f6c",
   "metadata": {},
   "source": [
    "### Step1: load data"
   ]
  },
  {
   "cell_type": "code",
   "execution_count": null,
   "id": "3ab46fdd-f3b3-4511-aaa2-d52da23f3df6",
   "metadata": {},
   "outputs": [],
   "source": [
    "# change input_path\n",
    "input_file = \"data/example_input.xlsx\" \n",
    "\n",
    "# change sheetname\n",
    "df = pd.read_excel(input_file, sheet_name=\"Sheet1\") \n",
    "\n",
    "# Keep only group and value columns\n",
    "df = df.iloc[:, [group_col_ID, value_col_ID]]\n",
    "df.columns = [\"group\", \"value\"]\n",
    "\n",
    "df.head()"
   ]
  },
  {
   "cell_type": "code",
   "execution_count": null,
   "id": "1392d5e8-8bf4-4f2d-a5b4-00dc212fe623",
   "metadata": {},
   "outputs": [],
   "source": []
  },
  {
   "cell_type": "markdown",
   "id": "e71b16f8-0fca-471f-ad02-c0ff42e26f22",
   "metadata": {},
   "source": [
    "### Step2:validate, counts, summary"
   ]
  },
  {
   "cell_type": "code",
   "execution_count": null,
   "id": "3445582f-2368-4a84-95d2-db35dd1bb4ea",
   "metadata": {},
   "outputs": [],
   "source": [
    "# Output file path\n",
    "output_file_path = 'file_name.txt' \n",
    "\n",
    "# Initialize a list to store result lines\n",
    "result_lines = []\n",
    "\n",
    "# Step 1: Calculate and log group counts\n",
    "group_counts = data.groupby('group')['value'].count()\n",
    "result_lines.append(\"Count of observations within each group:\\n\")\n",
    "print(\"Count of observations within each group:\")\n",
    "for group, count in group_counts.items():\n",
    "    line = f\"{group}: {count} observations\"\n",
    "    print(line)\n",
    "    result_lines.append(line)\n",
    "result_lines.append(\"\\n\")  # Add a blank line for separation\n",
    "\n",
    "# Step 2: Perform pairwise comparisons between all groups\n",
    "groups = data['group'].unique()\n",
    "comparisons = []\n",
    "\n",
    "for group1, group2 in itertools.combinations(groups, 2):\n",
    "    group1_data = data[data['group'] == group1]['value']\n",
    "    group2_data = data[data['group'] == group2]['value']\n",
    "    \n",
    "    # Perform normality tests (Shapiro-Wilk test)\n",
    "    shapiro_group1_p = stats.shapiro(group1_data).pvalue if len(group1_data) < 5000 else stats.kstest(group1_data, 'norm').pvalue\n",
    "    shapiro_group2_p = stats.shapiro(group2_data).pvalue if len(group2_data) < 5000 else stats.kstest(group2_data, 'norm').pvalue\n",
    "    \n",
    "    group1_normal = shapiro_group1_p > 0.05\n",
    "    group2_normal = shapiro_group2_p > 0.05\n",
    "    \n",
    "    # Perform Levene's test for variance assumption (only if both groups are normal)\n",
    "    if group1_normal and group2_normal:\n",
    "        levene_stat, levene_p = stats.levene(group1_data, group2_data)\n",
    "        \n",
    "        # Perform the appropriate t-test\n",
    "        if levene_p > 0.05:\n",
    "            t_stat, p_value = stats.ttest_ind(group1_data, group2_data, equal_var=True)  # Student's t-test\n",
    "            test_type = \"Student's t-test (equal variances assumed)\"\n",
    "        else:\n",
    "            t_stat, p_value = stats.ttest_ind(group1_data, group2_data, equal_var=False)  # Welch's t-test\n",
    "            test_type = \"Welch's t-test (unequal variances)\"\n",
    "    \n",
    "    else:\n",
    "        # If at least one group is not normal, use Mann-Whitney U test\n",
    "        u_stat, p_value = stats.mannwhitneyu(group1_data, group2_data, alternative='two-sided')\n",
    "        test_type = \"Mann-Whitney U test (non-parametric)\"\n",
    "\n",
    "    # Store results\n",
    "    comparisons.append(f'{group1} vs {group2}')\n",
    "    result_lines.append(f'{test_type} for {group1} vs {group2}: p-value = {p_value:.10f}')  # Full precision p-value\n",
    "\n",
    "# Step 4: Save all results to a single text file\n",
    "with open(output_file_path, 'w') as file:\n",
    "    for line in result_lines:\n",
    "        file.write(line + '\\n')\n",
    "\n",
    "print(f\"Results saved to {output_file_path}\")"
   ]
  }
 ],
 "metadata": {
  "kernelspec": {
   "display_name": "Python 3 (ipykernel)",
   "language": "python",
   "name": "python3"
  },
  "language_info": {
   "codemirror_mode": {
    "name": "ipython",
    "version": 3
   },
   "file_extension": ".py",
   "mimetype": "text/x-python",
   "name": "python",
   "nbconvert_exporter": "python",
   "pygments_lexer": "ipython3",
   "version": "3.9.21"
  }
 },
 "nbformat": 4,
 "nbformat_minor": 5
}
