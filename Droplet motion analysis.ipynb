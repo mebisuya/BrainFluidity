{
 "cells": [
  {
   "cell_type": "markdown",
   "id": "c8f74907-28da-466b-ad05-558b13784862",
   "metadata": {},
   "source": [
    "This notebook reproduces the **instantaneous speed** described in the manuscript.  \n",
    "\n",
    "## Analysis Workflow\n",
    "- **Preprocessing**  \n",
    "  - Walk through subfolders of TrackMate outputs (CSV files containing “edge”).\n",
    "        [assuming csv files for each condition (stage*species) are already concetenated into 1 file]\n",
    "  - Clean headers and sort trajectories by time.\n",
    "  - Filter only trajectories with ≥ 31 time points (i.e., 150 min duration)\n",
    "  - Truncate to first 31 time points for consistency  \n",
    "  - Add derived columns:\n",
    "    - `time` (row index × frame interval, in minutes)\n",
    "    - `index` (track identifier combining TRACK_ID and file name)\n",
    "  - Plot SPEED vs. time for each trajectory and save figures.\n",
    "\n",
    "- **Plotting**  \n",
    "  - Merge trajectories per subfolder and save as Excel files.\n",
    "\n",
    "- **Outputs**  \n",
    "  - Merged and filtered Excel files of trajectories.\n",
    "  - SPEED vs. time plots per merged csv\n",
    "---\n"
   ]
  },
  {
   "cell_type": "markdown",
   "id": "18abc1b2-9074-43a9-8e34-b45763be8bc7",
   "metadata": {},
   "source": []
  },
  {
   "cell_type": "code",
   "execution_count": null,
   "id": "18d5aa48-5aae-4828-b9bd-fb47537b3056",
   "metadata": {},
   "outputs": [],
   "source": [
    "# === Imports ===\n",
    "import os\n",
    "import itertools\n",
    "from pathlib import Path\n",
    "from statistics import mean\n",
    "\n",
    "import pandas as pd\n",
    "import numpy as np\n",
    "import matplotlib.pyplot as plt\n",
    "import matplotlib.ticker as ticker\n",
    "import seaborn as sns\n",
    "\n",
    "from scipy import stats\n",
    "from scipy.optimize import curve_fit\n",
    "from scipy.stats import gaussian_kde\n",
    "\n",
    "from matplotlib import cm\n",
    "from matplotlib.colors import Normalize\n",
    "\n",
    "import openpyxl"
   ]
  },
  {
   "cell_type": "code",
   "execution_count": null,
   "id": "dfa72849-b12b-46ef-8caa-63e1edf0e7f0",
   "metadata": {},
   "outputs": [],
   "source": []
  },
  {
   "cell_type": "markdown",
   "id": "92d326cb-0041-48ad-a2a8-7538fbf59274",
   "metadata": {},
   "source": [
    "### Step1 : Preprocessing and CSV merging"
   ]
  },
  {
   "cell_type": "code",
   "execution_count": null,
   "id": "1778c29c-5306-4227-82e0-5143ae7208db",
   "metadata": {},
   "outputs": [],
   "source": [
    "base_folder = 'base_folder_name' ## structure: base_folder >> subfolder >> csv. files\n",
    "output_folder_merged_data = \"outpout_folder_name\"\n",
    "\n",
    "for root, dirs, files in os.walk(base_folder):\n",
    "    edge_files = [f for f in files if f.endswith(\".csv\") and \"edge\" in f.lower()]\n",
    "    \n",
    "    if edge_files:\n",
    "        print(f\"\\n📂 Processing subfolder: {root}\")\n",
    "        subfolder_name = os.path.basename(root.rstrip(\"/\\\\\"))\n",
    "        combined_dfs = []\n",
    "\n",
    "        for file in edge_files:\n",
    "            file_path = os.path.join(root, file)\n",
    "            df = pd.read_csv(file_path, skiprows=[1, 2, 3]) # remove redundant headers\n",
    "            df.columns = df.columns.str.strip()\n",
    "            df = df.sort_values(by=\"EDGE_TIME\").reset_index(drop=True)\n",
    "            df[\"time\"] = df.index * 5 # time interval: 5min\n",
    "            base_name = os.path.splitext(file)[0]\n",
    "            df[\"index\"] = df[\"TRACK_ID\"].astype(str) + \"_\" + base_name\n",
    "\n",
    "            combined_dfs.append(df)\n",
    "\n",
    "        if combined_dfs:\n",
    "            pd.concat(combined_dfs, ignore_index=True).to_excel(\n",
    "                f\"{output_folder_merged_data}{subfolder_name}.xlsx\", index=False\n",
    "            )\n"
   ]
  },
  {
   "cell_type": "markdown",
   "id": "4a2c4837-a28a-41d3-a339-6b704bbf00bb",
   "metadata": {},
   "source": [
    "### Step2 : Trajectory plotting"
   ]
  },
  {
   "cell_type": "code",
   "execution_count": null,
   "id": "e7b04408-a625-482e-8e85-0bd270a95279",
   "metadata": {},
   "outputs": [],
   "source": [
    "\n",
    "figure_save = 'outout_figure_pathway'\n",
    "file_path = \"file_name.xlsx\"\n",
    "figure_name = os.path.splitext(os.path.basename(file_path))[0]\n",
    "\n",
    "\n",
    "# --- Plot All Trajectories ---\n",
    "df = pd.read_excel(file_path)\n",
    "df['SPEED'] = df['SPEED']*60 # convert speed unit from micron/second into micron/minutes\n",
    "grouped = df.groupby('index')\n",
    "filtered_groups = {name: group.iloc[:31] for name, group in grouped if len(group) >= 31}\n",
    "filtered_df = pd.concat(filtered_groups.values(), ignore_index=True)\n",
    "\n",
    "plt.figure(figsize=(5, 4))\n",
    "plt.rcParams['font.family'] = 'Arial'\n",
    "for name, group in filtered_df.groupby('index'):\n",
    "    plt.scatter(group['time'], group['SPEED'], s=20, alpha=0.8)\n",
    "    plt.plot(group['time'], group['SPEED'], alpha=0.7, linewidth=0.7)\n",
    "\n",
    "plt.xlabel('time', fontsize=10)\n",
    "plt.ylabel('real-time-speed per displacement', fontsize=10)\n",
    "plt.title(f'{figure_name} - All Trajectories', fontsize=12)\n",
    "plt.gca().xaxis.set_major_locator(ticker.MultipleLocator(25))\n",
    "plt.xlim(5, 150) \n",
    "plt.tight_layout()\n",
    "plt.savefig(f\"{figure_save}/{figure_name}.pdf\")\n",
    "plt.show()\n",
    "\n",
    "summary_save_path = os.path.join(figure_save, f\"{figure_name}_group_summary.txt\")\n",
    "\n",
    "# --- mean+std Trajectories ---\n",
    "\n",
    "pivot_table = filtered_df.pivot_table(index='time', columns='index', values='SPEED')\n",
    "\n",
    "mean_values = pivot_table.mean(axis=1)\n",
    "std_values = pivot_table.std(axis=1)\n",
    "\n",
    "plt.figure(figsize=(5, 4))\n",
    "plt.plot(mean_values.index, mean_values.values, color='black', linewidth=2, label='Mean')\n",
    "plt.fill_between(mean_values.index, mean_values - std_values, mean_values + std_values, color='gray', alpha=0.5, label='Mean ± SD')\n",
    "\n",
    "plt.xlabel('time', fontsize=10)\n",
    "plt.ylabel('real-time-speed per displacement', fontsize=10)\n",
    "plt.gca().xaxis.set_major_locator(ticker.MultipleLocator(25))\n",
    "\n",
    "plt.xlim(5, 150)\n",
    "plt.ylim(-0.2, 1.6)\n",
    "\n",
    "plt.title(f\"{figure_name} - Normalized Mean ± SD\", fontsize=12)\n",
    "plt.legend()\n",
    "plt.tight_layout()\n",
    "plt.savefig(f\"{figure_save}/{figure_name}_mean+sd.pdf\")\n",
    "plt.show()\n"
   ]
  },
  {
   "cell_type": "code",
   "execution_count": null,
   "id": "e6c387ff-d531-4305-954f-5d234d35816d",
   "metadata": {},
   "outputs": [],
   "source": []
  },
  {
   "cell_type": "code",
   "execution_count": null,
   "id": "f0784362-8b15-4cae-840f-e9458a795497",
   "metadata": {},
   "outputs": [],
   "source": []
  },
  {
   "cell_type": "code",
   "execution_count": null,
   "id": "0abd3c01-5027-474a-81ec-4421a8f13964",
   "metadata": {},
   "outputs": [],
   "source": []
  },
  {
   "cell_type": "code",
   "execution_count": null,
   "id": "f8688019-b915-48a1-a880-99e3eda907cb",
   "metadata": {},
   "outputs": [],
   "source": []
  },
  {
   "cell_type": "code",
   "execution_count": null,
   "id": "f4663599-0d34-43b4-a9bd-e76333e175d1",
   "metadata": {},
   "outputs": [],
   "source": []
  }
 ],
 "metadata": {
  "kernelspec": {
   "display_name": "Python 3 (ipykernel)",
   "language": "python",
   "name": "python3"
  },
  "language_info": {
   "codemirror_mode": {
    "name": "ipython",
    "version": 3
   },
   "file_extension": ".py",
   "mimetype": "text/x-python",
   "name": "python",
   "nbconvert_exporter": "python",
   "pygments_lexer": "ipython3",
   "version": "3.9.21"
  }
 },
 "nbformat": 4,
 "nbformat_minor": 5
}
